{
 "cells": [
  {
   "cell_type": "markdown",
   "id": "b459e07d-2b38-477a-a6f4-1fcd33370d75",
   "metadata": {
    "id": "b459e07d-2b38-477a-a6f4-1fcd33370d75"
   },
   "source": [
    "Practical - 3\n",
    "\n",
    "\n",
    "\n",
    "Program/Notebook to demonstrate dat wragling in python using A) Series B) Timedelta\n"
   ]
  },
  {
   "cell_type": "markdown",
   "id": "0cbb16af-762e-405f-839e-9226df323db7",
   "metadata": {
    "id": "0cbb16af-762e-405f-839e-9226df323db7"
   },
   "source": [
    "#### Series"
   ]
  },
  {
   "cell_type": "code",
   "execution_count": null,
   "id": "7013b398-b7b3-4766-9486-f5b198c41704",
   "metadata": {
    "id": "7013b398-b7b3-4766-9486-f5b198c41704"
   },
   "outputs": [],
   "source": [
    "#Importing Required Python Libraries\n",
    "import pandas as pd\n",
    "import numpy as np"
   ]
  },
  {
   "cell_type": "code",
   "execution_count": null,
   "id": "f0f83dd0-3f70-4559-96f8-108c4d46e081",
   "metadata": {
    "id": "f0f83dd0-3f70-4559-96f8-108c4d46e081",
    "outputId": "56a88889-2e70-4ad4-8612-47fa5756a59e"
   },
   "outputs": [
    {
     "data": {
      "text/plain": [
       "0    v\n",
       "1    i\n",
       "2    s\n",
       "3    k\n",
       "4    a\n",
       "5    p\n",
       "6    l\n",
       "7    w\n",
       "dtype: object"
      ]
     },
     "execution_count": 4,
     "metadata": {},
     "output_type": "execute_result"
    }
   ],
   "source": [
    "#Creating Series from a numpy array\n",
    "Array = np.array(['v', 'i', 's', 'k', 'a', 'p', 'l', 'w'])\n",
    "Data = pd.Series(Array)\n",
    "Data"
   ]
  },
  {
   "cell_type": "code",
   "execution_count": null,
   "id": "d6ca4c22-e38b-41ca-9007-8d34c4f9797b",
   "metadata": {
    "id": "d6ca4c22-e38b-41ca-9007-8d34c4f9797b",
    "outputId": "774a93cb-506c-4631-93a8-a052933038bb"
   },
   "outputs": [
    {
     "data": {
      "text/html": [
       "<div>\n",
       "<style scoped>\n",
       "    .dataframe tbody tr th:only-of-type {\n",
       "        vertical-align: middle;\n",
       "    }\n",
       "\n",
       "    .dataframe tbody tr th {\n",
       "        vertical-align: top;\n",
       "    }\n",
       "\n",
       "    .dataframe thead th {\n",
       "        text-align: right;\n",
       "    }\n",
       "</style>\n",
       "<table border=\"1\" class=\"dataframe\">\n",
       "  <thead>\n",
       "    <tr style=\"text-align: right;\">\n",
       "      <th></th>\n",
       "      <th>Sr.</th>\n",
       "      <th>Enrollment No.</th>\n",
       "      <th>Name of Student</th>\n",
       "      <th>CA-I (10marks)</th>\n",
       "      <th>CA-II (10marks)</th>\n",
       "      <th>Midterm (20marks)</th>\n",
       "      <th>UT1</th>\n",
       "      <th>OEA</th>\n",
       "      <th>Midsem split</th>\n",
       "    </tr>\n",
       "  </thead>\n",
       "  <tbody>\n",
       "    <tr>\n",
       "      <th>0</th>\n",
       "      <td>1</td>\n",
       "      <td>2054491246001</td>\n",
       "      <td>AAKANKSHA ANIL SALUNKE</td>\n",
       "      <td>8</td>\n",
       "      <td>8</td>\n",
       "      <td>18</td>\n",
       "      <td>6</td>\n",
       "      <td>8</td>\n",
       "      <td>6</td>\n",
       "    </tr>\n",
       "    <tr>\n",
       "      <th>1</th>\n",
       "      <td>2</td>\n",
       "      <td>2054491246002</td>\n",
       "      <td>ABHINASH KAILASH JOSHI</td>\n",
       "      <td>8</td>\n",
       "      <td>9</td>\n",
       "      <td>18</td>\n",
       "      <td>7</td>\n",
       "      <td>8</td>\n",
       "      <td>4</td>\n",
       "    </tr>\n",
       "  </tbody>\n",
       "</table>\n",
       "</div>"
      ],
      "text/plain": [
       "   Sr.  Enrollment No.        Name of Student   CA-I (10marks)   \n",
       "0    1   2054491246001  AAKANKSHA ANIL SALUNKE               8  \\\n",
       "1    2   2054491246002  ABHINASH KAILASH JOSHI               8   \n",
       "\n",
       "   CA-II (10marks)  Midterm (20marks)   UT1  OEA  Midsem split  \n",
       "0                8                  18    6    8             6  \n",
       "1                9                  18    7    8             4  "
      ]
     },
     "execution_count": 33,
     "metadata": {},
     "output_type": "execute_result"
    }
   ],
   "source": [
    "df = pd.read_excel(\"Book1.xlsx\")\n",
    "df.head(2)"
   ]
  },
  {
   "cell_type": "code",
   "execution_count": null,
   "id": "da74d039-2cdc-43d0-aa6f-a685b099f93a",
   "metadata": {
    "id": "da74d039-2cdc-43d0-aa6f-a685b099f93a",
    "outputId": "bc43d8e0-23f8-41d1-a6f6-61ae053902d3"
   },
   "outputs": [
    {
     "data": {
      "text/plain": [
       "0    6\n",
       "2    6\n",
       "1    7\n",
       "3    8\n",
       "4    8\n",
       "Name: UT1, dtype: int64"
      ]
     },
     "execution_count": 34,
     "metadata": {},
     "output_type": "execute_result"
    }
   ],
   "source": [
    "#Converting UT1 column into series of  Book1.xlsx\n",
    "Ser = pd.Series(df['UT1'])\n",
    "#Sorting Values of UT1\n",
    "Ser.head().sort_values()"
   ]
  },
  {
   "cell_type": "code",
   "execution_count": null,
   "id": "a724c586-900c-4ec5-92ab-68a3060b82ca",
   "metadata": {
    "id": "a724c586-900c-4ec5-92ab-68a3060b82ca",
    "outputId": "7c774716-947d-478a-e9c1-fa4fc2a6c098"
   },
   "outputs": [
    {
     "data": {
      "text/html": [
       "<div>\n",
       "<style scoped>\n",
       "    .dataframe tbody tr th:only-of-type {\n",
       "        vertical-align: middle;\n",
       "    }\n",
       "\n",
       "    .dataframe tbody tr th {\n",
       "        vertical-align: top;\n",
       "    }\n",
       "\n",
       "    .dataframe thead th {\n",
       "        text-align: right;\n",
       "    }\n",
       "</style>\n",
       "<table border=\"1\" class=\"dataframe\">\n",
       "  <thead>\n",
       "    <tr style=\"text-align: right;\">\n",
       "      <th></th>\n",
       "      <th>Sr.</th>\n",
       "      <th>Enrollment No.</th>\n",
       "      <th>Name of Student</th>\n",
       "      <th>CA-I (10marks)</th>\n",
       "      <th>CA-II (10marks)</th>\n",
       "      <th>Midterm (20marks)</th>\n",
       "      <th>UT1</th>\n",
       "      <th>OEA</th>\n",
       "      <th>Midsem split</th>\n",
       "    </tr>\n",
       "  </thead>\n",
       "  <tbody>\n",
       "    <tr>\n",
       "      <th>1</th>\n",
       "      <td>2</td>\n",
       "      <td>2054491246002</td>\n",
       "      <td>ABHINASH KAILASH JOSHI</td>\n",
       "      <td>8</td>\n",
       "      <td>9</td>\n",
       "      <td>18</td>\n",
       "      <td>7</td>\n",
       "      <td>8</td>\n",
       "      <td>4</td>\n",
       "    </tr>\n",
       "    <tr>\n",
       "      <th>2</th>\n",
       "      <td>3</td>\n",
       "      <td>2054491246003</td>\n",
       "      <td>ADITYA JITENDRA MALI</td>\n",
       "      <td>6</td>\n",
       "      <td>8</td>\n",
       "      <td>14</td>\n",
       "      <td>6</td>\n",
       "      <td>8</td>\n",
       "      <td>4</td>\n",
       "    </tr>\n",
       "    <tr>\n",
       "      <th>3</th>\n",
       "      <td>4</td>\n",
       "      <td>2054491246004</td>\n",
       "      <td>AISHWARYA AVINASH PATIL</td>\n",
       "      <td>9</td>\n",
       "      <td>9</td>\n",
       "      <td>19</td>\n",
       "      <td>8</td>\n",
       "      <td>8</td>\n",
       "      <td>5</td>\n",
       "    </tr>\n",
       "  </tbody>\n",
       "</table>\n",
       "</div>"
      ],
      "text/plain": [
       "   Sr.  Enrollment No.         Name of Student   CA-I (10marks)   \n",
       "1    2   2054491246002   ABHINASH KAILASH JOSHI               8  \\\n",
       "2    3   2054491246003     ADITYA JITENDRA MALI               6   \n",
       "3    4   2054491246004  AISHWARYA AVINASH PATIL               9   \n",
       "\n",
       "   CA-II (10marks)  Midterm (20marks)   UT1  OEA  Midsem split  \n",
       "1                9                  18    7    8             4  \n",
       "2                8                  14    6    8             4  \n",
       "3                9                  19    8    8             5  "
      ]
     },
     "execution_count": 23,
     "metadata": {},
     "output_type": "execute_result"
    }
   ],
   "source": [
    "#Reading from 1th index to 4th index rows only\n",
    "df.iloc[1: 4]"
   ]
  },
  {
   "cell_type": "code",
   "execution_count": null,
   "id": "5b8a7139-65db-42b2-aec4-e8ebc7d10e34",
   "metadata": {
    "id": "5b8a7139-65db-42b2-aec4-e8ebc7d10e34",
    "outputId": "ec83005e-2b75-4f8d-fd89-13ec11a61dfa"
   },
   "outputs": [
    {
     "data": {
      "text/plain": [
       "Sr.                   67\n",
       "Enrollment No.        67\n",
       "Name of Student       67\n",
       "CA-I (10marks)        67\n",
       "CA-II (10marks)       67\n",
       "Midterm (20marks)     67\n",
       "UT1                   67\n",
       "OEA                   67\n",
       "Midsem split          67\n",
       "dtype: int64"
      ]
     },
     "execution_count": 24,
     "metadata": {},
     "output_type": "execute_result"
    }
   ],
   "source": [
    "#Counting Total values in for each columns in Book1.xlsx\n",
    "df.count()"
   ]
  },
  {
   "cell_type": "code",
   "execution_count": null,
   "id": "c4999e24-fe1b-4d02-9171-8a09b665f1f9",
   "metadata": {
    "id": "c4999e24-fe1b-4d02-9171-8a09b665f1f9",
    "outputId": "c172a825-e199-4610-83f8-7318732d7743"
   },
   "outputs": [
    {
     "name": "stdout",
     "output_type": "stream",
     "text": [
      "Shape =  (67, 9)\n"
     ]
    }
   ],
   "source": [
    "print(\"Shape = \",df.shape)"
   ]
  },
  {
   "cell_type": "code",
   "execution_count": null,
   "id": "8256beb4-e164-40ac-ba00-9778c55c6b6c",
   "metadata": {
    "id": "8256beb4-e164-40ac-ba00-9778c55c6b6c",
    "outputId": "4b20c7ce-01fb-462a-a769-7f60984ffd8a"
   },
   "outputs": [
    {
     "name": "stdout",
     "output_type": "stream",
     "text": [
      "Size =  603\n"
     ]
    }
   ],
   "source": [
    "print(\"Size = \",df.size)"
   ]
  },
  {
   "cell_type": "code",
   "execution_count": null,
   "id": "ea02e8ac-de13-4730-b685-199e7124fe1b",
   "metadata": {
    "id": "ea02e8ac-de13-4730-b685-199e7124fe1b",
    "outputId": "91fa6ba3-e517-45dd-b9d7-5a994f44a1f0"
   },
   "outputs": [
    {
     "name": "stdout",
     "output_type": "stream",
     "text": [
      "DataFrame Dimension =  2\n"
     ]
    }
   ],
   "source": [
    "print(\"DataFrame Dimension = \",df.ndim)"
   ]
  },
  {
   "cell_type": "code",
   "execution_count": null,
   "id": "8dbf710c-ec06-4ac2-b12d-74b55bdc1875",
   "metadata": {
    "id": "8dbf710c-ec06-4ac2-b12d-74b55bdc1875",
    "outputId": "1d2fa288-24b2-4aec-e3bf-6ffb352c69de"
   },
   "outputs": [
    {
     "name": "stdout",
     "output_type": "stream",
     "text": [
      "Total Memory Occupied=  Index                 128\n",
      "Sr.                   536\n",
      "Enrollment No.        536\n",
      "Name of Student       536\n",
      "CA-I (10marks)        536\n",
      "CA-II (10marks)       536\n",
      "Midterm (20marks)     536\n",
      "UT1                   536\n",
      "OEA                   536\n",
      "Midsem split          536\n",
      "dtype: int64\n"
     ]
    }
   ],
   "source": [
    "print(\"Total Memory Occupied= \",df.memory_usage())"
   ]
  },
  {
   "cell_type": "code",
   "execution_count": null,
   "id": "df5b7a01-384d-45cf-adcb-c2700f89b0cd",
   "metadata": {
    "id": "df5b7a01-384d-45cf-adcb-c2700f89b0cd",
    "outputId": "57a2b38e-ef5d-4821-bdb9-efc90aec67b7"
   },
   "outputs": [
    {
     "data": {
      "text/plain": [
       "0    6\n",
       "1    7\n",
       "2    6\n",
       "Name: UT Test 1, dtype: int64"
      ]
     },
     "execution_count": 40,
     "metadata": {},
     "output_type": "execute_result"
    }
   ],
   "source": [
    "#Changing Name of Column\n",
    "NC  = pd.Series(df['UT1'], name='UT Test 1')\n",
    "NC.head(3)"
   ]
  },
  {
   "cell_type": "markdown",
   "id": "ae8e9508-5891-46fc-8516-9a8cca590edd",
   "metadata": {
    "id": "ae8e9508-5891-46fc-8516-9a8cca590edd"
   },
   "source": [
    "#### Timedelta"
   ]
  },
  {
   "cell_type": "code",
   "execution_count": null,
   "id": "7c3474f3-8bc7-4948-91aa-a420628ab079",
   "metadata": {
    "id": "7c3474f3-8bc7-4948-91aa-a420628ab079"
   },
   "outputs": [],
   "source": [
    "#Importing Required Libraries\n",
    "import pandas as pd"
   ]
  },
  {
   "cell_type": "code",
   "execution_count": null,
   "id": "ef30c19d-ed1b-482b-95a0-0151e512caac",
   "metadata": {
    "id": "ef30c19d-ed1b-482b-95a0-0151e512caac",
    "outputId": "ee743f88-69b9-4ac8-bd30-fbcd0c79eef1"
   },
   "outputs": [
    {
     "name": "stdout",
     "output_type": "stream",
     "text": [
      "5 days 08:45:30\n"
     ]
    }
   ],
   "source": [
    "#Creating a timedelta object by passing a string literal\n",
    "print(pd.Timedelta('5 days 8 hours 45 minutes 30 seconds'))"
   ]
  },
  {
   "cell_type": "code",
   "execution_count": null,
   "id": "05c7ebf8-01d3-4b11-a254-55de2e499298",
   "metadata": {
    "id": "05c7ebf8-01d3-4b11-a254-55de2e499298",
    "outputId": "57f5597a-2803-428a-f627-a3ef01da09ff"
   },
   "outputs": [
    {
     "name": "stdout",
     "output_type": "stream",
     "text": [
      "0 days 06:00:00\n"
     ]
    }
   ],
   "source": [
    "#Create a timedeltaobject by passing an integer, with the unit\n",
    "print(pd.Timedelta(6, unit='h'))"
   ]
  },
  {
   "cell_type": "code",
   "execution_count": null,
   "id": "e84b9e4e-e3dd-4e14-ae92-68b03778dcbf",
   "metadata": {
    "id": "e84b9e4e-e3dd-4e14-ae92-68b03778dcbf",
    "outputId": "b15960c9-96bd-4306-93ae-79311a98995e"
   },
   "outputs": [
    {
     "name": "stdout",
     "output_type": "stream",
     "text": [
      "5 days 00:00:00\n",
      "0 days 05:00:00\n",
      "5 days 04:02:30\n"
     ]
    }
   ],
   "source": [
    "#data offsets\n",
    "print(pd.Timedelta(days=5))\n",
    "print(pd.Timedelta(hours=5))\n",
    "print(pd.Timedelta(days=5, hours=4, minutes=2, seconds=30))"
   ]
  }
 ],
 "metadata": {
  "colab": {
   "provenance": []
  },
  "kernelspec": {
   "display_name": "Python 3 (ipykernel)",
   "language": "python",
   "name": "python3"
  },
  "language_info": {
   "codemirror_mode": {
    "name": "ipython",
    "version": 3
   },
   "file_extension": ".py",
   "mimetype": "text/x-python",
   "name": "python",
   "nbconvert_exporter": "python",
   "pygments_lexer": "ipython3",
   "version": "3.11.4"
  }
 },
 "nbformat": 4,
 "nbformat_minor": 5
}
